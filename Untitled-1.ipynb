{
 "cells": [
  {
   "cell_type": "code",
   "execution_count": 1,
   "metadata": {},
   "outputs": [],
   "source": [
    "#Welcome to movie Recomendation system"
   ]
  },
  {
   "cell_type": "code",
   "execution_count": null,
   "metadata": {},
   "outputs": [],
   "source": [
    "import pandas as pd\n",
    "import numpy as np\n",
    "import random\n",
    "\n",
    "# Define movies and their genres\n",
    "movies = {\n",
    "    \"Movie1\": \"Action\", \"Movie2\": \"Action\", \"Movie3\": \"Action\", \"Movie4\": \"Action\", \"Movie5\": \"Action\",\n",
    "    \"Movie6\": \"Adventure\", \"Movie7\": \"Adventure\", \"Movie8\": \"Adventure\", \"Movie9\": \"Adventure\", \"Movie10\": \"Adventure\",\n",
    "    \"Movie11\": \"Drama\", \"Movie12\": \"Drama\", \"Movie13\": \"Drama\", \"Movie14\": \"Drama\", \"Movie15\": \"Drama\",\n",
    "    \"Movie16\": \"Sci-Fi\", \"Movie17\": \"Sci-Fi\", \"Movie18\": \"Sci-Fi\", \"Movie19\": \"Sci-Fi\", \"Movie20\": \"Sci-Fi\"\n",
    "}\n",
    "\n",
    "# Number of users\n",
    "num_users = 10000\n",
    "\n",
    "# Generate ratings data\n",
    "ratings_data = []\n",
    "for user_id in range(1, num_users + 1):\n",
    "    for movie, genre in movies.items():\n",
    "        rating = random.randint(1, 5)  # Random rating from 1 to 5\n",
    "        ratings_data.append([user_id, movie, genre, rating])\n",
    "\n",
    "# Create a DataFrame\n",
    "df = pd.DataFrame(ratings_data, columns=[\"User_ID\", \"Movie_Name\", \"Genre\", \"Rating\"])\n",
    "\n",
    "# Save to CSV\n",
    "df.to_csv(\"movie_ratings.csv\", index=False)\n",
    "\n",
    "# Display first few rows\n",
    "df.head()\n"
   ]
  }
 ],
 "metadata": {
  "kernelspec": {
   "display_name": "Python 3",
   "language": "python",
   "name": "python3"
  },
  "language_info": {
   "codemirror_mode": {
    "name": "ipython",
    "version": 3
   },
   "file_extension": ".py",
   "mimetype": "text/x-python",
   "name": "python",
   "nbconvert_exporter": "python",
   "pygments_lexer": "ipython3",
   "version": "3.11.3"
  }
 },
 "nbformat": 4,
 "nbformat_minor": 2
}
